{
 "cells": [
  {
   "cell_type": "markdown",
   "id": "9786a62b-3913-4430-8cb2-70ca201658a8",
   "metadata": {},
   "source": [
    "## 000_PyTorch Fundamentals\n",
    "\n",
    "Documentation of PyTorch: https://pytorch.org/docs/stable/index.html"
   ]
  },
  {
   "cell_type": "markdown",
   "id": "04443881-cc02-42b4-b8c9-9363dbce8d0a",
   "metadata": {},
   "source": [
    "<center>\n",
    "<img src=\"data:image/png;base64,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\"/>\n",
    "</center>"
   ]
  },
  {
   "cell_type": "code",
   "execution_count": 5,
   "id": "c770ebf7-fb9c-49b1-8138-457cd902d8c7",
   "metadata": {},
   "outputs": [],
   "source": [
    "## checking for GPU\n",
    "# !nvidia-smi"
   ]
  },
  {
   "cell_type": "markdown",
   "id": "16375d2e-4ccb-46b9-85b6-f1f850d40165",
   "metadata": {},
   "source": [
    "# Libraries"
   ]
  },
  {
   "cell_type": "code",
   "execution_count": 17,
   "id": "c422e94a-e9a7-4b51-8fc8-3b0cf665336d",
   "metadata": {},
   "outputs": [],
   "source": [
    "import torch \n",
    "import pandas as pd\n",
    "import numpy as np\n",
    "import matplotlib.pyplot as plt\n",
    "\n",
    "import warnings\n",
    "warnings.filterwarnings(\"ignore\")"
   ]
  },
  {
   "cell_type": "code",
   "execution_count": 18,
   "id": "9580a35d-151c-472e-a408-6efdb97227ed",
   "metadata": {},
   "outputs": [
    {
     "name": "stdout",
     "output_type": "stream",
     "text": [
      "2.0.1+cu118\n"
     ]
    }
   ],
   "source": [
    "print(torch.__version__)"
   ]
  },
  {
   "cell_type": "markdown",
   "id": "06de7dfa-cb5a-4af7-adfe-be7c5bb2dfbc",
   "metadata": {},
   "source": [
    "# Introduction Tensors\n",
    "\n",
    "### Creating a Tesnsor\n",
    "Tensor Represents multi-dimensional numerical data"
   ]
  },
  {
   "cell_type": "markdown",
   "id": "951cf734-b36e-401a-91dd-51721efb5bf9",
   "metadata": {},
   "source": [
    "# Scalar"
   ]
  },
  {
   "cell_type": "code",
   "execution_count": 72,
   "id": "a9474f07-23df-49bc-85d3-5f53aa648db7",
   "metadata": {},
   "outputs": [
    {
     "name": "stdout",
     "output_type": "stream",
     "text": [
      "Value of scalar: 7 | Type of scalar: <class 'torch.Tensor'>\n"
     ]
    }
   ],
   "source": [
    "scalar = torch.tensor(7)\n",
    "print(f'Value of scalar: {scalar} | Type of scalar: {type(scalar)}')"
   ]
  },
  {
   "cell_type": "code",
   "execution_count": 73,
   "id": "8cf8f4e6-1ad3-4d2b-99a3-e3cc8bf67663",
   "metadata": {},
   "outputs": [
    {
     "data": {
      "text/plain": [
       "7"
      ]
     },
     "execution_count": 73,
     "metadata": {},
     "output_type": "execute_result"
    }
   ],
   "source": [
    "# reverting a tensor to a python integer\n",
    "scalar.item()"
   ]
  },
  {
   "cell_type": "markdown",
   "id": "35b18484-65b5-4400-a6d3-364a814d60df",
   "metadata": {},
   "source": [
    "# Vector\n",
    "##### Vector has direction"
   ]
  },
  {
   "cell_type": "code",
   "execution_count": 76,
   "id": "ba39edba-1ef7-4955-83e9-708587b3f992",
   "metadata": {},
   "outputs": [
    {
     "name": "stdout",
     "output_type": "stream",
     "text": [
      "\n",
      "Value of vector: tensor([7, 7]) | Type of vector: <class 'torch.Tensor'>\n"
     ]
    }
   ],
   "source": [
    "vector = torch.tensor([7, 7])\n",
    "print(f'\\nValue of vector: {vector} | Type of vector: {type(vector)}')"
   ]
  },
  {
   "cell_type": "code",
   "execution_count": 77,
   "id": "b4686c09-24e3-42db-8255-faa9e2468380",
   "metadata": {},
   "outputs": [
    {
     "data": {
      "text/plain": [
       "(0, 1, torch.Size([]), torch.Size([2]))"
      ]
     },
     "execution_count": 77,
     "metadata": {},
     "output_type": "execute_result"
    }
   ],
   "source": [
    "# checking dimension of a scalar and vector\n",
    "scalar.ndim, vector.ndim, scalar.shape, vector.shape"
   ]
  },
  {
   "cell_type": "markdown",
   "id": "9840aeda-03e6-4e93-8b87-d9f09d45869c",
   "metadata": {},
   "source": [
    "# Matrix"
   ]
  },
  {
   "cell_type": "code",
   "execution_count": 78,
   "id": "3e1c2b6e-bd78-466b-90da-74995f710587",
   "metadata": {},
   "outputs": [
    {
     "name": "stdout",
     "output_type": "stream",
     "text": [
      "Dimensions of Matrix 2\n",
      "Shape of Matrix \"torch.Size([2, 2])\"\n"
     ]
    },
    {
     "data": {
      "text/plain": [
       "tensor([[2, 3],\n",
       "        [4, 5]])"
      ]
     },
     "execution_count": 78,
     "metadata": {},
     "output_type": "execute_result"
    }
   ],
   "source": [
    "Matrix = torch.tensor([[2,3], [4,5]])\n",
    "\n",
    "print(f'Dimensions of Matrix {Matrix.ndim}')\n",
    "print(f'Shape of Matrix \"{Matrix.shape}\"')\n",
    "\n",
    "Matrix"
   ]
  },
  {
   "cell_type": "markdown",
   "id": "4fc5e36d-c60c-4334-89ca-3442b931279e",
   "metadata": {},
   "source": [
    "# Tensor"
   ]
  },
  {
   "cell_type": "code",
   "execution_count": 70,
   "id": "c49e2cac-b900-476c-ac7a-b5b5ca955e31",
   "metadata": {},
   "outputs": [
    {
     "name": "stdout",
     "output_type": "stream",
     "text": [
      "Dimensions of Tensor 3\n",
      "Shape of Tensor \"torch.Size([1, 3, 3])\"\n"
     ]
    },
    {
     "data": {
      "text/plain": [
       "tensor([[[1, 2, 3],\n",
       "         [4, 5, 6],\n",
       "         [7, 8, 9]]])"
      ]
     },
     "execution_count": 70,
     "metadata": {},
     "output_type": "execute_result"
    }
   ],
   "source": [
    "TENSOR = torch.tensor([[[1, 2, 3],\n",
    "                        [4, 5, 6],\n",
    "                        [7, 8, 9]]])\n",
    "\n",
    "print(f'Dimensions of Tensor {TENSOR.ndim}')\n",
    "print(f'Shape of Tensor \"{TENSOR.shape}\"')\n",
    "\n",
    "TENSOR"
   ]
  }
 ],
 "metadata": {
  "kernelspec": {
   "display_name": "Python 3 (ipykernel)",
   "language": "python",
   "name": "python3"
  },
  "language_info": {
   "codemirror_mode": {
    "name": "ipython",
    "version": 3
   },
   "file_extension": ".py",
   "mimetype": "text/x-python",
   "name": "python",
   "nbconvert_exporter": "python",
   "pygments_lexer": "ipython3",
   "version": "3.11.4"
  }
 },
 "nbformat": 4,
 "nbformat_minor": 5
}
